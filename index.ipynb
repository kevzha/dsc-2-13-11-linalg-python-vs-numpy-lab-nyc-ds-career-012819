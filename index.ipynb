{
 "cells": [
  {
   "cell_type": "markdown",
   "metadata": {},
   "source": [
    "# Pure Python vs. Numpy - Lab\n",
    "\n",
    "## Introduction \n",
    "\n",
    "Numpy, Scipy and Pandas libraries provide a significant increase in computational efficiency with complex mathematical operations as compared to Python's built in arithmatic functions.  In this lab we shall calculate and compare the processing speed required for calculating a dot product both using basic arithmatic operations in Python and Numpy's `.dot()` method. \n",
    "\n",
    "## Objectives\n",
    "You will be able to:\n",
    "* Compare the performance of high dimensional matrix operations in Numpy vs. pure Python"
   ]
  },
  {
   "cell_type": "markdown",
   "metadata": {},
   "source": [
    "## Problem\n",
    "> **Write a routine to calculate the dot product between two 200 x 200 dimensional matrices using:**\n",
    "\n",
    "> **a) Pure Python**\n",
    "\n",
    "> **b) Numpy's `.dot()`**\n",
    "\n",
    "\n",
    "### Create two 200 x 200 matrices in Python and fill them with random values using `np.random.rand()` "
   ]
  },
  {
   "cell_type": "code",
   "execution_count": 1,
   "metadata": {},
   "outputs": [],
   "source": [
    "# Compare 200x200 matrix-matrix multiplication speed\n",
    "import numpy as np\n",
    "\n",
    "# Set up the variables\n",
    "A = np.random.rand(200,200)\n",
    "B = np.random.rand(200,200)"
   ]
  },
  {
   "cell_type": "markdown",
   "metadata": {},
   "source": [
    "### Pure Python\n",
    "\n",
    "* Initialize an zeros filled numpy matrix with necessary rows and columns for storing result. \n",
    "* In Python Calculate the dot product using the formula \n",
    "![](formula.png)\n",
    "* Use Python's `timeit` library to calculate the processing time. \n",
    "* [Visit this link](https://www.pythoncentral.io/time-a-python-function/) for an indepth explanation on how to time a function or routine in python. \n",
    "\n",
    "**Hint**: Use nested for loop for accessing, calculating and storing each scalar value in the result matrix."
   ]
  },
  {
   "cell_type": "code",
   "execution_count": 7,
   "metadata": {},
   "outputs": [
    {
     "name": "stdout",
     "output_type": "stream",
     "text": [
      "[[0.24608661 0.16998954 0.47893693 ... 0.46552696 0.45479933 0.045198  ]\n",
      " [0.00121283 0.64757161 0.09130725 ... 0.10663363 0.17629084 0.13376203]\n",
      " [0.15748594 0.44052641 0.02890763 ... 0.03333854 0.11997938 0.48862575]\n",
      " ...\n",
      " [0.02522204 0.43037421 0.19802126 ... 0.11466374 0.15056622 0.66461074]\n",
      " [0.25097356 0.4981648  0.0978041  ... 0.00544106 0.14168201 0.34082625]\n",
      " [0.00571474 0.41445773 0.59027214 ... 0.70409574 0.53942417 0.22010854]]\n",
      "Pure Python Time: 0.0657468808349222 sec.\n"
     ]
    }
   ],
   "source": [
    "import timeit\n",
    "\n",
    "# Start the timer\n",
    "start = timeit.default_timer()\n",
    "\n",
    "# Matrix multiplication in pure Python\n",
    "\n",
    "prod = np.zeros([200,200])\n",
    "\n",
    "for i in range(prod.shape[0]):\n",
    "    for j in range(prod.shape[1]):\n",
    "        prod[i,j] = A[i,j]*B[i,j]\n",
    "\n",
    "time_spent = timeit.default_timer() - start\n",
    "print(prod)\n",
    "\n",
    "print('Pure Python Time:', time_spent, 'sec.')"
   ]
  },
  {
   "cell_type": "markdown",
   "metadata": {},
   "source": [
    "## Numpy \n",
    "Set the timer and calculate the time taken by `.dot()` function for multiplying A and B \n"
   ]
  },
  {
   "cell_type": "code",
   "execution_count": 4,
   "metadata": {},
   "outputs": [
    {
     "name": "stdout",
     "output_type": "stream",
     "text": [
      "Numpy Time: None sec.\n"
     ]
    }
   ],
   "source": [
    "# start the timer\n",
    "start = None\n",
    "\n",
    "# Matrix multiplication in numpy\n",
    "\n",
    "\n",
    "time_spent = None\n",
    "print('Numpy Time:', time_spent, 'sec.')"
   ]
  },
  {
   "cell_type": "markdown",
   "metadata": {},
   "source": [
    "### Your comments "
   ]
  },
  {
   "cell_type": "markdown",
   "metadata": {},
   "source": [
    "```\n",
    "```"
   ]
  },
  {
   "cell_type": "markdown",
   "metadata": {},
   "source": [
    "## Summary\n",
    "\n",
    "In this lab, we performed a quick comparison between calculating a dot product in numpy vs python built in function. We saw that Numpy is computationally much more efficient that Python code due to highly sophisticated implementation of Numpy source code. You are encouraged to always perform such tests to fully appreciate the use of an additional library in Python. "
   ]
  }
 ],
 "metadata": {
  "kernelspec": {
   "display_name": "Python 3",
   "language": "python",
   "name": "python3"
  },
  "language_info": {
   "codemirror_mode": {
    "name": "ipython",
    "version": 3
   },
   "file_extension": ".py",
   "mimetype": "text/x-python",
   "name": "python",
   "nbconvert_exporter": "python",
   "pygments_lexer": "ipython3",
   "version": "3.6.6"
  }
 },
 "nbformat": 4,
 "nbformat_minor": 2
}
